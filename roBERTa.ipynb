{
  "nbformat": 4,
  "nbformat_minor": 0,
  "metadata": {
    "accelerator": "GPU",
    "colab": {
      "name": "roBERTa.ipynb",
      "provenance": [],
      "authorship_tag": "ABX9TyN/ADClxOMD0NfZjKlDOiqz",
      "include_colab_link": true
    },
    "kernelspec": {
      "display_name": "Python 3",
      "name": "python3"
    },
    "language_info": {
      "name": "python"
    }
  },
  "cells": [
    {
      "cell_type": "markdown",
      "metadata": {
        "id": "view-in-github",
        "colab_type": "text"
      },
      "source": [
        "<a href=\"https://colab.research.google.com/github/zecakpm/NLP/blob/main/roBERTa.ipynb\" target=\"_parent\"><img src=\"https://colab.research.google.com/assets/colab-badge.svg\" alt=\"Open In Colab\"/></a>"
      ]
    },
    {
      "cell_type": "markdown",
      "metadata": {
        "id": "Pkz_Zl_MAmKH"
      },
      "source": [
        "Using RoBERTa: A Robustly Optimized BERT Pretraining Approach\\\n",
        "to predict relation between headers and news.\n",
        "\n",
        "https://github.com/pytorch/fairseq/blob/master/examples/roberta/README.md"
      ]
    },
    {
      "cell_type": "code",
      "metadata": {
        "id": "Ag1h5AzP5AE4"
      },
      "source": [
        "import pandas as pd\n",
        "import numpy as np\n",
        "from itertools import cycle \n",
        "from sklearn.metrics import confusion_matrix"
      ],
      "execution_count": 1,
      "outputs": []
    },
    {
      "cell_type": "code",
      "metadata": {
        "colab": {
          "base_uri": "https://localhost:8080/"
        },
        "id": "GVmKFLB2EW8W",
        "outputId": "3e5ae38e-9859-44e0-81ae-8b6d65eb743b"
      },
      "source": [
        "#connecting with personal frive\n",
        "from google.colab import drive\n",
        "drive.mount('/content/drive')"
      ],
      "execution_count": 2,
      "outputs": [
        {
          "output_type": "stream",
          "text": [
            "Mounted at /content/drive\n"
          ],
          "name": "stdout"
        }
      ]
    },
    {
      "cell_type": "code",
      "metadata": {
        "id": "zInASeao9Z25"
      },
      "source": [
        "#open file\n",
        "text = open('/content/drive/My Drive/Colab Notebooks/NLP/somefile.txt','r')\n"
      ],
      "execution_count": 3,
      "outputs": []
    },
    {
      "cell_type": "code",
      "metadata": {
        "id": "B4PNRwuI9Zjk"
      },
      "source": [
        "#convert to a list and to a dataframe\n",
        "df = pd.DataFrame(list(text))\n"
      ],
      "execution_count": 4,
      "outputs": []
    },
    {
      "cell_type": "code",
      "metadata": {
        "colab": {
          "base_uri": "https://localhost:8080/"
        },
        "id": "sFiKXZvruoxz",
        "outputId": "7e0c34af-7794-4607-c935-0895bd8f9174"
      },
      "source": [
        "#make a copy\n",
        "data = df.copy()\n",
        "len(data)"
      ],
      "execution_count": 5,
      "outputs": [
        {
          "output_type": "execute_result",
          "data": {
            "text/plain": [
              "149916"
            ]
          },
          "metadata": {
            "tags": []
          },
          "execution_count": 5
        }
      ]
    },
    {
      "cell_type": "code",
      "metadata": {
        "colab": {
          "base_uri": "https://localhost:8080/",
          "height": 201
        },
        "id": "zLtPIsPwBN-4",
        "outputId": "940618e7-3f56-4b02-a6a4-10696ebce620"
      },
      "source": [
        "#data check\n",
        "data.head()"
      ],
      "execution_count": 6,
      "outputs": [
        {
          "output_type": "execute_result",
          "data": {
            "text/html": [
              "<div>\n",
              "<style scoped>\n",
              "    .dataframe tbody tr th:only-of-type {\n",
              "        vertical-align: middle;\n",
              "    }\n",
              "\n",
              "    .dataframe tbody tr th {\n",
              "        vertical-align: top;\n",
              "    }\n",
              "\n",
              "    .dataframe thead th {\n",
              "        text-align: right;\n",
              "    }\n",
              "</style>\n",
              "<table border=\"1\" class=\"dataframe\">\n",
              "  <thead>\n",
              "    <tr style=\"text-align: right;\">\n",
              "      <th></th>\n",
              "      <th>0</th>\n",
              "    </tr>\n",
              "  </thead>\n",
              "  <tbody>\n",
              "    <tr>\n",
              "      <th>0</th>\n",
              "      <td>A small meteorite crashed into a wooded area i...</td>\n",
              "    </tr>\n",
              "    <tr>\n",
              "      <th>1</th>\n",
              "      <td>Soldier shot, Parliament locked down after gun...</td>\n",
              "    </tr>\n",
              "    <tr>\n",
              "      <th>2</th>\n",
              "      <td>unrelated\\n</td>\n",
              "    </tr>\n",
              "    <tr>\n",
              "      <th>3</th>\n",
              "      <td>A small meteorite crashed into a wooded area i...</td>\n",
              "    </tr>\n",
              "    <tr>\n",
              "      <th>4</th>\n",
              "      <td>Tourist dubbed ‘Spider Man’ after spider burro...</td>\n",
              "    </tr>\n",
              "  </tbody>\n",
              "</table>\n",
              "</div>"
            ],
            "text/plain": [
              "                                                   0\n",
              "0  A small meteorite crashed into a wooded area i...\n",
              "1  Soldier shot, Parliament locked down after gun...\n",
              "2                                        unrelated\\n\n",
              "3  A small meteorite crashed into a wooded area i...\n",
              "4  Tourist dubbed ‘Spider Man’ after spider burro..."
            ]
          },
          "metadata": {
            "tags": []
          },
          "execution_count": 6
        }
      ]
    },
    {
      "cell_type": "code",
      "metadata": {
        "id": "c0pmbmxoBWCi"
      },
      "source": [
        "#creating a temp. column\n",
        "x = cycle(range(3))\n",
        "data['tmp'] = [next(x) for row in range(len(data))]"
      ],
      "execution_count": 7,
      "outputs": []
    },
    {
      "cell_type": "code",
      "metadata": {
        "id": "hLOzdroj9XCM"
      },
      "source": [
        "#populating lists based on temp. column\n",
        "news = []\n",
        "headers = []\n",
        "labels = []\n",
        "for i in range(len(data)):\n",
        "    a = data[0][i]\n",
        "    if data['tmp'][i] == 0:\n",
        "      news.append(a)\n",
        "    elif data['tmp'][i] == 1:\n",
        "      headers.append(a)\n",
        "    else:\n",
        "      labels.append(a)"
      ],
      "execution_count": 8,
      "outputs": []
    },
    {
      "cell_type": "code",
      "metadata": {
        "colab": {
          "base_uri": "https://localhost:8080/"
        },
        "id": "OwvASq2Y6jw9",
        "outputId": "5fdbb8ba-1e14-4041-f2c4-733a6b6f8046"
      },
      "source": [
        "#checking length is each list\n",
        "max_length_news = max(len(x) for x in news )\n",
        "min_length_news = min(len(x) for x in news )\n",
        "max_length_headers = max(len(x) for x in headers )\n",
        "min_length_headers = min(len(x) for x in headers )\n",
        "\n",
        "print(len(news), len(headers) , len(labels))\n",
        "print(min_length_news)\n",
        "print(max_length_news)\n",
        "print(min_length_headers)\n",
        "print(max_length_headers)"
      ],
      "execution_count": 9,
      "outputs": [
        {
          "output_type": "stream",
          "text": [
            "49972 49972 49972\n",
            "39\n",
            "27580\n",
            "10\n",
            "226\n"
          ],
          "name": "stdout"
        }
      ]
    },
    {
      "cell_type": "code",
      "metadata": {
        "colab": {
          "base_uri": "https://localhost:8080/",
          "height": 201
        },
        "id": "Lbejwn6D-nkU",
        "outputId": "a1fc77e2-5f1c-4a84-c3aa-ebca315495a7"
      },
      "source": [
        "#creating a new df\n",
        "new_df = pd.DataFrame(\n",
        "    {'news':news,\n",
        "     'headers':headers,\n",
        "     'labels':labels}\n",
        ")\n",
        "new_df.head()"
      ],
      "execution_count": 10,
      "outputs": [
        {
          "output_type": "execute_result",
          "data": {
            "text/html": [
              "<div>\n",
              "<style scoped>\n",
              "    .dataframe tbody tr th:only-of-type {\n",
              "        vertical-align: middle;\n",
              "    }\n",
              "\n",
              "    .dataframe tbody tr th {\n",
              "        vertical-align: top;\n",
              "    }\n",
              "\n",
              "    .dataframe thead th {\n",
              "        text-align: right;\n",
              "    }\n",
              "</style>\n",
              "<table border=\"1\" class=\"dataframe\">\n",
              "  <thead>\n",
              "    <tr style=\"text-align: right;\">\n",
              "      <th></th>\n",
              "      <th>news</th>\n",
              "      <th>headers</th>\n",
              "      <th>labels</th>\n",
              "    </tr>\n",
              "  </thead>\n",
              "  <tbody>\n",
              "    <tr>\n",
              "      <th>0</th>\n",
              "      <td>A small meteorite crashed into a wooded area i...</td>\n",
              "      <td>Soldier shot, Parliament locked down after gun...</td>\n",
              "      <td>unrelated\\n</td>\n",
              "    </tr>\n",
              "    <tr>\n",
              "      <th>1</th>\n",
              "      <td>A small meteorite crashed into a wooded area i...</td>\n",
              "      <td>Tourist dubbed ‘Spider Man’ after spider burro...</td>\n",
              "      <td>unrelated\\n</td>\n",
              "    </tr>\n",
              "    <tr>\n",
              "      <th>2</th>\n",
              "      <td>A small meteorite crashed into a wooded area i...</td>\n",
              "      <td>Luke Somers 'killed in failed rescue attempt i...</td>\n",
              "      <td>unrelated\\n</td>\n",
              "    </tr>\n",
              "    <tr>\n",
              "      <th>3</th>\n",
              "      <td>A small meteorite crashed into a wooded area i...</td>\n",
              "      <td>BREAKING: Soldier shot at War Memorial in Otta...</td>\n",
              "      <td>unrelated\\n</td>\n",
              "    </tr>\n",
              "    <tr>\n",
              "      <th>4</th>\n",
              "      <td>A small meteorite crashed into a wooded area i...</td>\n",
              "      <td>Giant 8ft 9in catfish weighing 19 stone caught...</td>\n",
              "      <td>unrelated\\n</td>\n",
              "    </tr>\n",
              "  </tbody>\n",
              "</table>\n",
              "</div>"
            ],
            "text/plain": [
              "                                                news  ...       labels\n",
              "0  A small meteorite crashed into a wooded area i...  ...  unrelated\\n\n",
              "1  A small meteorite crashed into a wooded area i...  ...  unrelated\\n\n",
              "2  A small meteorite crashed into a wooded area i...  ...  unrelated\\n\n",
              "3  A small meteorite crashed into a wooded area i...  ...  unrelated\\n\n",
              "4  A small meteorite crashed into a wooded area i...  ...  unrelated\\n\n",
              "\n",
              "[5 rows x 3 columns]"
            ]
          },
          "metadata": {
            "tags": []
          },
          "execution_count": 10
        }
      ]
    },
    {
      "cell_type": "code",
      "metadata": {
        "colab": {
          "base_uri": "https://localhost:8080/"
        },
        "id": "4T3rz7RBeb0R",
        "outputId": "6cb167d8-40ee-41a2-bef8-235b30c4f316"
      },
      "source": [
        "#checking unique values for the column label\n",
        "new_df['labels'].value_counts()"
      ],
      "execution_count": 11,
      "outputs": [
        {
          "output_type": "execute_result",
          "data": {
            "text/plain": [
              "unrelated\\n    36545\n",
              "discuss\\n       8909\n",
              "agree\\n         3678\n",
              "disagree\\n       840\n",
              "Name: labels, dtype: int64"
            ]
          },
          "metadata": {
            "tags": []
          },
          "execution_count": 11
        }
      ]
    },
    {
      "cell_type": "code",
      "metadata": {
        "colab": {
          "base_uri": "https://localhost:8080/",
          "height": 201
        },
        "id": "7O4u8n-rebwf",
        "outputId": "c61ce42c-4550-413f-e509-ac25b05f405e"
      },
      "source": [
        "#removing the trailing new line\n",
        "new_df['labels'] = [new_df['labels'][row].rstrip(\"\\n\") for row in range(len(new_df))]\n",
        "new_df.head()"
      ],
      "execution_count": 12,
      "outputs": [
        {
          "output_type": "execute_result",
          "data": {
            "text/html": [
              "<div>\n",
              "<style scoped>\n",
              "    .dataframe tbody tr th:only-of-type {\n",
              "        vertical-align: middle;\n",
              "    }\n",
              "\n",
              "    .dataframe tbody tr th {\n",
              "        vertical-align: top;\n",
              "    }\n",
              "\n",
              "    .dataframe thead th {\n",
              "        text-align: right;\n",
              "    }\n",
              "</style>\n",
              "<table border=\"1\" class=\"dataframe\">\n",
              "  <thead>\n",
              "    <tr style=\"text-align: right;\">\n",
              "      <th></th>\n",
              "      <th>news</th>\n",
              "      <th>headers</th>\n",
              "      <th>labels</th>\n",
              "    </tr>\n",
              "  </thead>\n",
              "  <tbody>\n",
              "    <tr>\n",
              "      <th>0</th>\n",
              "      <td>A small meteorite crashed into a wooded area i...</td>\n",
              "      <td>Soldier shot, Parliament locked down after gun...</td>\n",
              "      <td>unrelated</td>\n",
              "    </tr>\n",
              "    <tr>\n",
              "      <th>1</th>\n",
              "      <td>A small meteorite crashed into a wooded area i...</td>\n",
              "      <td>Tourist dubbed ‘Spider Man’ after spider burro...</td>\n",
              "      <td>unrelated</td>\n",
              "    </tr>\n",
              "    <tr>\n",
              "      <th>2</th>\n",
              "      <td>A small meteorite crashed into a wooded area i...</td>\n",
              "      <td>Luke Somers 'killed in failed rescue attempt i...</td>\n",
              "      <td>unrelated</td>\n",
              "    </tr>\n",
              "    <tr>\n",
              "      <th>3</th>\n",
              "      <td>A small meteorite crashed into a wooded area i...</td>\n",
              "      <td>BREAKING: Soldier shot at War Memorial in Otta...</td>\n",
              "      <td>unrelated</td>\n",
              "    </tr>\n",
              "    <tr>\n",
              "      <th>4</th>\n",
              "      <td>A small meteorite crashed into a wooded area i...</td>\n",
              "      <td>Giant 8ft 9in catfish weighing 19 stone caught...</td>\n",
              "      <td>unrelated</td>\n",
              "    </tr>\n",
              "  </tbody>\n",
              "</table>\n",
              "</div>"
            ],
            "text/plain": [
              "                                                news  ...     labels\n",
              "0  A small meteorite crashed into a wooded area i...  ...  unrelated\n",
              "1  A small meteorite crashed into a wooded area i...  ...  unrelated\n",
              "2  A small meteorite crashed into a wooded area i...  ...  unrelated\n",
              "3  A small meteorite crashed into a wooded area i...  ...  unrelated\n",
              "4  A small meteorite crashed into a wooded area i...  ...  unrelated\n",
              "\n",
              "[5 rows x 3 columns]"
            ]
          },
          "metadata": {
            "tags": []
          },
          "execution_count": 12
        }
      ]
    },
    {
      "cell_type": "code",
      "metadata": {
        "id": "RSpTaOV-ZnOe",
        "colab": {
          "base_uri": "https://localhost:8080/"
        },
        "outputId": "7ff6262b-f52c-4365-ed77-9ed131668d9a"
      },
      "source": [
        "!pip install hydra-core omegaconf"
      ],
      "execution_count": 13,
      "outputs": [
        {
          "output_type": "stream",
          "text": [
            "Collecting hydra-core\n",
            "\u001b[?25l  Downloading https://files.pythonhosted.org/packages/52/e3/fbd70dd0d3ce4d1d75c22d56c0c9f895cfa7ed6587a9ffb821d6812d6a60/hydra_core-1.0.6-py3-none-any.whl (123kB)\n",
            "\u001b[K     |████████████████████████████████| 133kB 30.0MB/s \n",
            "\u001b[?25hCollecting omegaconf\n",
            "  Downloading https://files.pythonhosted.org/packages/d0/eb/9d63ce09dd8aa85767c65668d5414958ea29648a0eec80a4a7d311ec2684/omegaconf-2.0.6-py3-none-any.whl\n",
            "Requirement already satisfied: importlib-resources; python_version < \"3.9\" in /usr/local/lib/python3.7/dist-packages (from hydra-core) (5.1.3)\n",
            "Collecting antlr4-python3-runtime==4.8\n",
            "\u001b[?25l  Downloading https://files.pythonhosted.org/packages/56/02/789a0bddf9c9b31b14c3e79ec22b9656185a803dc31c15f006f9855ece0d/antlr4-python3-runtime-4.8.tar.gz (112kB)\n",
            "\u001b[K     |████████████████████████████████| 112kB 44.4MB/s \n",
            "\u001b[?25hRequirement already satisfied: typing-extensions in /usr/local/lib/python3.7/dist-packages (from omegaconf) (3.7.4.3)\n",
            "Collecting PyYAML>=5.1.*\n",
            "\u001b[?25l  Downloading https://files.pythonhosted.org/packages/7a/a5/393c087efdc78091afa2af9f1378762f9821c9c1d7a22c5753fb5ac5f97a/PyYAML-5.4.1-cp37-cp37m-manylinux1_x86_64.whl (636kB)\n",
            "\u001b[K     |████████████████████████████████| 645kB 49.8MB/s \n",
            "\u001b[?25hRequirement already satisfied: zipp>=0.4; python_version < \"3.8\" in /usr/local/lib/python3.7/dist-packages (from importlib-resources; python_version < \"3.9\"->hydra-core) (3.4.1)\n",
            "Building wheels for collected packages: antlr4-python3-runtime\n",
            "  Building wheel for antlr4-python3-runtime (setup.py) ... \u001b[?25l\u001b[?25hdone\n",
            "  Created wheel for antlr4-python3-runtime: filename=antlr4_python3_runtime-4.8-cp37-none-any.whl size=141231 sha256=c521216db5ece8e5d0c40f12154211253cc1fd5b1571dff90350dc60d2a07523\n",
            "  Stored in directory: /root/.cache/pip/wheels/e3/e2/fa/b78480b448b8579ddf393bebd3f47ee23aa84c89b6a78285c8\n",
            "Successfully built antlr4-python3-runtime\n",
            "Installing collected packages: PyYAML, omegaconf, antlr4-python3-runtime, hydra-core\n",
            "  Found existing installation: PyYAML 3.13\n",
            "    Uninstalling PyYAML-3.13:\n",
            "      Successfully uninstalled PyYAML-3.13\n",
            "Successfully installed PyYAML-5.4.1 antlr4-python3-runtime-4.8 hydra-core-1.0.6 omegaconf-2.0.6\n"
          ],
          "name": "stdout"
        }
      ]
    },
    {
      "cell_type": "code",
      "metadata": {
        "id": "fjIs75BISzvV"
      },
      "source": [
        "import torch\n",
        "from torch import cuda\n",
        "# Download RoBERTa already finetuned for MNLI\n",
        "roberta = torch.hub.load('pytorch/fairseq', 'roberta.large.mnli')\n",
        "roberta.eval() "
      ],
      "execution_count": null,
      "outputs": []
    },
    {
      "cell_type": "code",
      "metadata": {
        "id": "n-ES3TFOSzkV"
      },
      "source": [
        "#batched predictions\n",
        "from fairseq.data.data_utils import collate_tokens\n"
      ],
      "execution_count": 16,
      "outputs": []
    },
    {
      "cell_type": "code",
      "metadata": {
        "colab": {
          "base_uri": "https://localhost:8080/"
        },
        "id": "mbQp_Xg0aqpt",
        "outputId": "6e53495d-b1da-49ff-9422-0b817b90a3e5"
      },
      "source": [
        "#running model in a small batch\n",
        "batch = collate_tokens(\n",
        "    [roberta.encode(row[0], row[1]) for row in new_df], pad_idx=1\n",
        ")\n",
        "\n",
        "logprobs = roberta.predict('mnli', batch)\n",
        "print(logprobs.argmax(dim=1))"
      ],
      "execution_count": 17,
      "outputs": [
        {
          "output_type": "stream",
          "text": [
            "tensor([2, 0, 2])\n"
          ],
          "name": "stdout"
        }
      ]
    },
    {
      "cell_type": "code",
      "metadata": {
        "id": "r63E9NKm9leq"
      },
      "source": [
        "#creating a new copy\n",
        "df_2 = new_df.copy()"
      ],
      "execution_count": 18,
      "outputs": []
    },
    {
      "cell_type": "code",
      "metadata": {
        "colab": {
          "base_uri": "https://localhost:8080/"
        },
        "id": "Egchac8-T5C2",
        "outputId": "36a6fb94-fb83-4f70-bdc8-91b1658808ff"
      },
      "source": [
        "#checking label counts\n",
        "df_2['labels'].value_counts()"
      ],
      "execution_count": 19,
      "outputs": [
        {
          "output_type": "execute_result",
          "data": {
            "text/plain": [
              "unrelated    36545\n",
              "discuss       8909\n",
              "agree         3678\n",
              "disagree       840\n",
              "Name: labels, dtype: int64"
            ]
          },
          "metadata": {
            "tags": []
          },
          "execution_count": 19
        }
      ]
    },
    {
      "cell_type": "code",
      "metadata": {
        "id": "65GxRzQhTxOX"
      },
      "source": [
        "#updating labels for model comparison\n",
        "df_2['labels_int'] = ''\n",
        "\n",
        "for label in range(len(df_2)):\n",
        "  if df_2['labels'][label] == 'unrelated':\n",
        "    df_2['labels_int'][label] = 0\n",
        "  elif df_2['labels'][label] == 'disagree':\n",
        "    df_2['labels_int'][label] = 1\n",
        "  elif df_2['labels'][label] == 'discuss':\n",
        "    df_2['labels_int'][label] = 2\n",
        "  else:\n",
        "    df_2['labels_int'][label] = 3\n",
        "\n",
        "\n"
      ],
      "execution_count": 20,
      "outputs": []
    },
    {
      "cell_type": "code",
      "metadata": {
        "colab": {
          "base_uri": "https://localhost:8080/"
        },
        "id": "CDf6HGCqVuks",
        "outputId": "c7090038-44e5-4048-e54f-5bdf38bc0ff2"
      },
      "source": [
        "#checking label counts\n",
        "df_2['labels_int'].value_counts()"
      ],
      "execution_count": 21,
      "outputs": [
        {
          "output_type": "execute_result",
          "data": {
            "text/plain": [
              "0    36545\n",
              "2     8909\n",
              "3     3678\n",
              "1      840\n",
              "Name: labels_int, dtype: int64"
            ]
          },
          "metadata": {
            "tags": []
          },
          "execution_count": 21
        }
      ]
    },
    {
      "cell_type": "code",
      "metadata": {
        "colab": {
          "base_uri": "https://localhost:8080/",
          "height": 201
        },
        "id": "aMIiMTKm5jlq",
        "outputId": "732db05b-6d0d-4f01-a0b4-94228ff57922"
      },
      "source": [
        "#data check\n",
        "df_2.head()"
      ],
      "execution_count": 23,
      "outputs": [
        {
          "output_type": "execute_result",
          "data": {
            "text/html": [
              "<div>\n",
              "<style scoped>\n",
              "    .dataframe tbody tr th:only-of-type {\n",
              "        vertical-align: middle;\n",
              "    }\n",
              "\n",
              "    .dataframe tbody tr th {\n",
              "        vertical-align: top;\n",
              "    }\n",
              "\n",
              "    .dataframe thead th {\n",
              "        text-align: right;\n",
              "    }\n",
              "</style>\n",
              "<table border=\"1\" class=\"dataframe\">\n",
              "  <thead>\n",
              "    <tr style=\"text-align: right;\">\n",
              "      <th></th>\n",
              "      <th>news</th>\n",
              "      <th>headers</th>\n",
              "      <th>labels</th>\n",
              "      <th>labels_int</th>\n",
              "    </tr>\n",
              "  </thead>\n",
              "  <tbody>\n",
              "    <tr>\n",
              "      <th>0</th>\n",
              "      <td>A small meteorite crashed into a wooded area i...</td>\n",
              "      <td>Soldier shot, Parliament locked down after gun...</td>\n",
              "      <td>unrelated</td>\n",
              "      <td>0</td>\n",
              "    </tr>\n",
              "    <tr>\n",
              "      <th>1</th>\n",
              "      <td>A small meteorite crashed into a wooded area i...</td>\n",
              "      <td>Tourist dubbed ‘Spider Man’ after spider burro...</td>\n",
              "      <td>unrelated</td>\n",
              "      <td>0</td>\n",
              "    </tr>\n",
              "    <tr>\n",
              "      <th>2</th>\n",
              "      <td>A small meteorite crashed into a wooded area i...</td>\n",
              "      <td>Luke Somers 'killed in failed rescue attempt i...</td>\n",
              "      <td>unrelated</td>\n",
              "      <td>0</td>\n",
              "    </tr>\n",
              "    <tr>\n",
              "      <th>3</th>\n",
              "      <td>A small meteorite crashed into a wooded area i...</td>\n",
              "      <td>BREAKING: Soldier shot at War Memorial in Otta...</td>\n",
              "      <td>unrelated</td>\n",
              "      <td>0</td>\n",
              "    </tr>\n",
              "    <tr>\n",
              "      <th>4</th>\n",
              "      <td>A small meteorite crashed into a wooded area i...</td>\n",
              "      <td>Giant 8ft 9in catfish weighing 19 stone caught...</td>\n",
              "      <td>unrelated</td>\n",
              "      <td>0</td>\n",
              "    </tr>\n",
              "  </tbody>\n",
              "</table>\n",
              "</div>"
            ],
            "text/plain": [
              "                                                news  ... labels_int\n",
              "0  A small meteorite crashed into a wooded area i...  ...          0\n",
              "1  A small meteorite crashed into a wooded area i...  ...          0\n",
              "2  A small meteorite crashed into a wooded area i...  ...          0\n",
              "3  A small meteorite crashed into a wooded area i...  ...          0\n",
              "4  A small meteorite crashed into a wooded area i...  ...          0\n",
              "\n",
              "[5 rows x 4 columns]"
            ]
          },
          "metadata": {
            "tags": []
          },
          "execution_count": 23
        }
      ]
    },
    {
      "cell_type": "code",
      "metadata": {
        "id": "FalcUVtYJmsx",
        "colab": {
          "base_uri": "https://localhost:8080/"
        },
        "outputId": "e3cf0256-1260-4e09-d6f2-50944b3194fe"
      },
      "source": [
        "#evaluating the model\n",
        "%%time\n",
        "label_map = {0: 'contradiction', 1: 'neutral', 2: 'entailment'}\n",
        "ncorrect, nsamples = 0 , 0 \n",
        "roberta.cuda()\n",
        "roberta.eval()\n",
        "prediction_list = []\n",
        "\n",
        "for row in range(len(df_2)):\n",
        "  sent1, sent2, target = df_2.iloc[:,0], df_2.iloc[:,1], df_2.iloc[:,3]\n",
        "  tokens = roberta.encode(sent1[row][0:511], sent2[row])\n",
        "  prediction = roberta.predict('mnli', tokens).argmax().item()\n",
        "  prediction_label = label_map[prediction]\n",
        "  prediction_list.append(prediction_label)\n",
        "  if prediction_label == target[row]: ncorrect +=1\n",
        "  nsamples +=1\n",
        "print('| Accuracy: ', float(ncorrect)/float(nsamples))"
      ],
      "execution_count": 24,
      "outputs": [
        {
          "output_type": "stream",
          "text": [
            "| Accuracy:  0.0\n",
            "CPU times: user 30min 44s, sys: 4.72 s, total: 30min 49s\n",
            "Wall time: 30min 58s\n"
          ],
          "name": "stdout"
        }
      ]
    },
    {
      "cell_type": "code",
      "metadata": {
        "colab": {
          "base_uri": "https://localhost:8080/"
        },
        "id": "cM5jnx0i-n7S",
        "outputId": "82575d31-4120-46af-a962-45f0abecf13d"
      },
      "source": [
        "#checking prediction list\n",
        "prediction_list[0:10]"
      ],
      "execution_count": 26,
      "outputs": [
        {
          "output_type": "execute_result",
          "data": {
            "text/plain": [
              "['neutral',\n",
              " 'neutral',\n",
              " 'neutral',\n",
              " 'neutral',\n",
              " 'neutral',\n",
              " 'neutral',\n",
              " 'neutral',\n",
              " 'neutral',\n",
              " 'neutral',\n",
              " 'neutral']"
            ]
          },
          "metadata": {
            "tags": []
          },
          "execution_count": 26
        }
      ]
    },
    {
      "cell_type": "code",
      "metadata": {
        "id": "2KfpEaH9-n3U"
      },
      "source": [
        "#adding predictions to a data frame as column\n",
        "df_2['model_pred'] = prediction_list"
      ],
      "execution_count": 27,
      "outputs": []
    },
    {
      "cell_type": "code",
      "metadata": {
        "id": "m165qQg8qyZS"
      },
      "source": [
        "#save \n",
        "df_2.to_csv('/content/drive/My Drive/Colab Notebooks/NLP/sometext_pred.csv',index=False)"
      ],
      "execution_count": 81,
      "outputs": []
    },
    {
      "cell_type": "code",
      "metadata": {
        "id": "o6Ah_UK-ppiY"
      },
      "source": [
        "#open file\n",
        "text_pred = open('/content/drive/My Drive/Colab Notebooks/NLP/sometext_pred.csv')"
      ],
      "execution_count": 82,
      "outputs": []
    },
    {
      "cell_type": "code",
      "metadata": {
        "id": "ihTXBAFyppf7"
      },
      "source": [
        "#convert to a list and to a dataframe\n",
        "df_pred = pd.read_csv(text_pred)"
      ],
      "execution_count": 83,
      "outputs": []
    },
    {
      "cell_type": "code",
      "metadata": {
        "colab": {
          "base_uri": "https://localhost:8080/",
          "height": 201
        },
        "id": "WL9Vw2Lqzaht",
        "outputId": "ad37816a-4a09-4b2a-8dbc-5cd316f8731e"
      },
      "source": [
        "#data check\n",
        "df_pred.head()"
      ],
      "execution_count": 109,
      "outputs": [
        {
          "output_type": "execute_result",
          "data": {
            "text/html": [
              "<div>\n",
              "<style scoped>\n",
              "    .dataframe tbody tr th:only-of-type {\n",
              "        vertical-align: middle;\n",
              "    }\n",
              "\n",
              "    .dataframe tbody tr th {\n",
              "        vertical-align: top;\n",
              "    }\n",
              "\n",
              "    .dataframe thead th {\n",
              "        text-align: right;\n",
              "    }\n",
              "</style>\n",
              "<table border=\"1\" class=\"dataframe\">\n",
              "  <thead>\n",
              "    <tr style=\"text-align: right;\">\n",
              "      <th></th>\n",
              "      <th>news</th>\n",
              "      <th>headers</th>\n",
              "      <th>labels</th>\n",
              "      <th>labels_int</th>\n",
              "      <th>model_pred</th>\n",
              "    </tr>\n",
              "  </thead>\n",
              "  <tbody>\n",
              "    <tr>\n",
              "      <th>0</th>\n",
              "      <td>A small meteorite crashed into a wooded area i...</td>\n",
              "      <td>Soldier shot, Parliament locked down after gun...</td>\n",
              "      <td>unrelated</td>\n",
              "      <td>0</td>\n",
              "      <td>neutral</td>\n",
              "    </tr>\n",
              "    <tr>\n",
              "      <th>1</th>\n",
              "      <td>A small meteorite crashed into a wooded area i...</td>\n",
              "      <td>Tourist dubbed ‘Spider Man’ after spider burro...</td>\n",
              "      <td>unrelated</td>\n",
              "      <td>0</td>\n",
              "      <td>neutral</td>\n",
              "    </tr>\n",
              "    <tr>\n",
              "      <th>2</th>\n",
              "      <td>A small meteorite crashed into a wooded area i...</td>\n",
              "      <td>Luke Somers 'killed in failed rescue attempt i...</td>\n",
              "      <td>unrelated</td>\n",
              "      <td>0</td>\n",
              "      <td>neutral</td>\n",
              "    </tr>\n",
              "    <tr>\n",
              "      <th>3</th>\n",
              "      <td>A small meteorite crashed into a wooded area i...</td>\n",
              "      <td>BREAKING: Soldier shot at War Memorial in Otta...</td>\n",
              "      <td>unrelated</td>\n",
              "      <td>0</td>\n",
              "      <td>neutral</td>\n",
              "    </tr>\n",
              "    <tr>\n",
              "      <th>4</th>\n",
              "      <td>A small meteorite crashed into a wooded area i...</td>\n",
              "      <td>Giant 8ft 9in catfish weighing 19 stone caught...</td>\n",
              "      <td>unrelated</td>\n",
              "      <td>0</td>\n",
              "      <td>neutral</td>\n",
              "    </tr>\n",
              "  </tbody>\n",
              "</table>\n",
              "</div>"
            ],
            "text/plain": [
              "                                                news  ... model_pred\n",
              "0  A small meteorite crashed into a wooded area i...  ...    neutral\n",
              "1  A small meteorite crashed into a wooded area i...  ...    neutral\n",
              "2  A small meteorite crashed into a wooded area i...  ...    neutral\n",
              "3  A small meteorite crashed into a wooded area i...  ...    neutral\n",
              "4  A small meteorite crashed into a wooded area i...  ...    neutral\n",
              "\n",
              "[5 rows x 5 columns]"
            ]
          },
          "metadata": {
            "tags": []
          },
          "execution_count": 109
        }
      ]
    },
    {
      "cell_type": "code",
      "metadata": {
        "colab": {
          "base_uri": "https://localhost:8080/"
        },
        "id": "zq2xc78PBgpt",
        "outputId": "42bc47ad-fc17-44be-d6ce-d1f7ca8e0431"
      },
      "source": [
        "# adding labels to lists and merging lists\n",
        "rows = list(df_pred['labels'].unique())\n",
        "columns = list(df_pred['model_pred'].unique())\n",
        "labels = rows + columns\n",
        "print(labels)"
      ],
      "execution_count": 103,
      "outputs": [
        {
          "output_type": "stream",
          "text": [
            "['unrelated', 'agree', 'discuss', 'disagree']\n",
            "['neutral', 'entailment', 'contradiction']\n",
            "['unrelated', 'agree', 'discuss', 'disagree', 'neutral', 'entailment', 'contradiction']\n"
          ],
          "name": "stdout"
        }
      ]
    },
    {
      "cell_type": "code",
      "metadata": {
        "id": "2Q67lKg-0FZv"
      },
      "source": [
        "# generating the confusion matrix (cm)\n",
        "y_true  = df_pred['labels']\n",
        "y_pred = df_pred['model_pred']\n",
        "cm = confusion_matrix(y_true, y_pred, labels=labels)"
      ],
      "execution_count": 105,
      "outputs": []
    },
    {
      "cell_type": "code",
      "metadata": {
        "colab": {
          "base_uri": "https://localhost:8080/"
        },
        "id": "WGTZ3-6mGpeB",
        "outputId": "a008ecbb-d16f-4138-c16c-55f22cf3f374"
      },
      "source": [
        "# adding and printing the cm in a dataFrame format\n",
        "cmxt = pd.DataFrame(cm, index=labels, columns=labels)\n",
        "print(cmxt)"
      ],
      "execution_count": 108,
      "outputs": [
        {
          "output_type": "stream",
          "text": [
            "               unrelated  agree  discuss  ...  neutral  entailment  contradiction\n",
            "unrelated              0      0        0  ...    31384         560           4601\n",
            "agree                  0      0        0  ...     1558        1819            301\n",
            "discuss                0      0        0  ...     3821        3968           1120\n",
            "disagree               0      0        0  ...      389         142            309\n",
            "neutral                0      0        0  ...        0           0              0\n",
            "entailment             0      0        0  ...        0           0              0\n",
            "contradiction          0      0        0  ...        0           0              0\n",
            "\n",
            "[7 rows x 7 columns]\n"
          ],
          "name": "stdout"
        }
      ]
    },
    {
      "cell_type": "markdown",
      "metadata": {
        "id": "1jr3ZCQYHAz9"
      },
      "source": [
        ""
      ]
    }
  ]
}