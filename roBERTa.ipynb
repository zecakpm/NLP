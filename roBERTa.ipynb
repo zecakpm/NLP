{
  "nbformat": 4,
  "nbformat_minor": 0,
  "metadata": {
    "colab": {
      "name": "roBERTa.ipynb",
      "provenance": [],
      "authorship_tag": "ABX9TyNbBSwKxcm9IoFEcUQCFDUa",
      "include_colab_link": true
    },
    "kernelspec": {
      "name": "python3",
      "display_name": "Python 3"
    },
    "language_info": {
      "name": "python"
    },
    "accelerator": "GPU"
  },
  "cells": [
    {
      "cell_type": "markdown",
      "metadata": {
        "id": "view-in-github",
        "colab_type": "text"
      },
      "source": [
        "<a href=\"https://colab.research.google.com/github/zecakpm/NLP/blob/main/roBERTa.ipynb\" target=\"_parent\"><img src=\"https://colab.research.google.com/assets/colab-badge.svg\" alt=\"Open In Colab\"/></a>"
      ]
    },
    {
      "cell_type": "markdown",
      "metadata": {
        "id": "Pkz_Zl_MAmKH"
      },
      "source": [
        "Using RoBERTa: A Robustly Optimized BERT Pretraining Approach\\\n",
        "to predict relation between headers and news.\n",
        "\n",
        "https://github.com/pytorch/fairseq/blob/master/examples/roberta/README.md"
      ]
    },
    {
      "cell_type": "code",
      "metadata": {
        "id": "Ag1h5AzP5AE4"
      },
      "source": [
        "import pandas as pd\n",
        "import re\n",
        "from itertools import cycle "
      ],
      "execution_count": 2,
      "outputs": []
    },
    {
      "cell_type": "code",
      "metadata": {
        "id": "GVmKFLB2EW8W",
        "colab": {
          "base_uri": "https://localhost:8080/"
        },
        "outputId": "642f0c44-7a65-47bc-a5ca-3b9f15dc36e3"
      },
      "source": [
        "from google.colab import drive\n",
        "drive.mount('/content/drive')"
      ],
      "execution_count": 3,
      "outputs": [
        {
          "output_type": "stream",
          "text": [
            "Mounted at /content/drive\n"
          ],
          "name": "stdout"
        }
      ]
    },
    {
      "cell_type": "code",
      "metadata": {
        "id": "zInASeao9Z25"
      },
      "source": [
        "#open file\n",
        "text = open('/content/drive/My Drive/Colab Notebooks/NLP/somefile.txt','r')\n"
      ],
      "execution_count": 4,
      "outputs": []
    },
    {
      "cell_type": "code",
      "metadata": {
        "id": "B4PNRwuI9Zjk"
      },
      "source": [
        "#convert to a list and to a dataframe\n",
        "df = pd.DataFrame(list(text))\n"
      ],
      "execution_count": 5,
      "outputs": []
    },
    {
      "cell_type": "code",
      "metadata": {
        "id": "sFiKXZvruoxz",
        "colab": {
          "base_uri": "https://localhost:8080/"
        },
        "outputId": "3407c639-91d0-4016-c375-bcfa7f393a32"
      },
      "source": [
        "#make a copy\n",
        "data = df.copy()\n",
        "len(data)"
      ],
      "execution_count": 6,
      "outputs": [
        {
          "output_type": "execute_result",
          "data": {
            "text/plain": [
              "149916"
            ]
          },
          "metadata": {
            "tags": []
          },
          "execution_count": 6
        }
      ]
    },
    {
      "cell_type": "code",
      "metadata": {
        "colab": {
          "base_uri": "https://localhost:8080/",
          "height": 201
        },
        "id": "zLtPIsPwBN-4",
        "outputId": "f91aa751-47b2-4d42-ac2c-dd54a312e97a"
      },
      "source": [
        "data.head()"
      ],
      "execution_count": 7,
      "outputs": [
        {
          "output_type": "execute_result",
          "data": {
            "text/html": [
              "<div>\n",
              "<style scoped>\n",
              "    .dataframe tbody tr th:only-of-type {\n",
              "        vertical-align: middle;\n",
              "    }\n",
              "\n",
              "    .dataframe tbody tr th {\n",
              "        vertical-align: top;\n",
              "    }\n",
              "\n",
              "    .dataframe thead th {\n",
              "        text-align: right;\n",
              "    }\n",
              "</style>\n",
              "<table border=\"1\" class=\"dataframe\">\n",
              "  <thead>\n",
              "    <tr style=\"text-align: right;\">\n",
              "      <th></th>\n",
              "      <th>0</th>\n",
              "    </tr>\n",
              "  </thead>\n",
              "  <tbody>\n",
              "    <tr>\n",
              "      <th>0</th>\n",
              "      <td>A small meteorite crashed into a wooded area i...</td>\n",
              "    </tr>\n",
              "    <tr>\n",
              "      <th>1</th>\n",
              "      <td>Soldier shot, Parliament locked down after gun...</td>\n",
              "    </tr>\n",
              "    <tr>\n",
              "      <th>2</th>\n",
              "      <td>unrelated\\n</td>\n",
              "    </tr>\n",
              "    <tr>\n",
              "      <th>3</th>\n",
              "      <td>A small meteorite crashed into a wooded area i...</td>\n",
              "    </tr>\n",
              "    <tr>\n",
              "      <th>4</th>\n",
              "      <td>Tourist dubbed ‘Spider Man’ after spider burro...</td>\n",
              "    </tr>\n",
              "  </tbody>\n",
              "</table>\n",
              "</div>"
            ],
            "text/plain": [
              "                                                   0\n",
              "0  A small meteorite crashed into a wooded area i...\n",
              "1  Soldier shot, Parliament locked down after gun...\n",
              "2                                        unrelated\\n\n",
              "3  A small meteorite crashed into a wooded area i...\n",
              "4  Tourist dubbed ‘Spider Man’ after spider burro..."
            ]
          },
          "metadata": {
            "tags": []
          },
          "execution_count": 7
        }
      ]
    },
    {
      "cell_type": "code",
      "metadata": {
        "id": "c0pmbmxoBWCi"
      },
      "source": [
        "#creating a temp. column\n",
        "x = cycle(range(3))\n",
        "data['tmp'] = [next(x) for row in range(len(data))]"
      ],
      "execution_count": 8,
      "outputs": []
    },
    {
      "cell_type": "code",
      "metadata": {
        "id": "hLOzdroj9XCM"
      },
      "source": [
        "#populating lists based on temp. column\n",
        "news = []\n",
        "headers = []\n",
        "labels = []\n",
        "for i in range(len(data)):\n",
        "    a = data[0][i]\n",
        "    if data['tmp'][i] == 0:\n",
        "      news.append(a)\n",
        "    elif data['tmp'][i] == 1:\n",
        "      headers.append(a)\n",
        "    else:\n",
        "      labels.append(a)"
      ],
      "execution_count": 9,
      "outputs": []
    },
    {
      "cell_type": "code",
      "metadata": {
        "id": "OwvASq2Y6jw9",
        "colab": {
          "base_uri": "https://localhost:8080/"
        },
        "outputId": "6924d448-94c7-476a-e0c0-0f496feab069"
      },
      "source": [
        "#checking length is each list\n",
        "max_length_news = max(len(x) for x in news )\n",
        "min_length_news = min(len(x) for x in news )\n",
        "max_length_headers = max(len(x) for x in headers )\n",
        "min_length_headers = min(len(x) for x in headers )\n",
        "\n",
        "print(len(news), len(headers) , len(labels))\n",
        "print(min_length_news)\n",
        "print(max_length_news)\n",
        "print(min_length_headers)\n",
        "print(max_length_headers)"
      ],
      "execution_count": 10,
      "outputs": [
        {
          "output_type": "stream",
          "text": [
            "49972 49972 49972\n",
            "39\n",
            "27580\n",
            "10\n",
            "226\n"
          ],
          "name": "stdout"
        }
      ]
    },
    {
      "cell_type": "code",
      "metadata": {
        "colab": {
          "base_uri": "https://localhost:8080/",
          "height": 201
        },
        "id": "Lbejwn6D-nkU",
        "outputId": "42cc532d-3b00-4387-9054-154e79e0d5be"
      },
      "source": [
        "#creating a new df\n",
        "new_df = pd.DataFrame(\n",
        "    {'news':news,\n",
        "     'headers':headers,\n",
        "     'labels':labels}\n",
        ")\n",
        "new_df.head()"
      ],
      "execution_count": 26,
      "outputs": [
        {
          "output_type": "execute_result",
          "data": {
            "text/html": [
              "<div>\n",
              "<style scoped>\n",
              "    .dataframe tbody tr th:only-of-type {\n",
              "        vertical-align: middle;\n",
              "    }\n",
              "\n",
              "    .dataframe tbody tr th {\n",
              "        vertical-align: top;\n",
              "    }\n",
              "\n",
              "    .dataframe thead th {\n",
              "        text-align: right;\n",
              "    }\n",
              "</style>\n",
              "<table border=\"1\" class=\"dataframe\">\n",
              "  <thead>\n",
              "    <tr style=\"text-align: right;\">\n",
              "      <th></th>\n",
              "      <th>news</th>\n",
              "      <th>headers</th>\n",
              "      <th>labels</th>\n",
              "    </tr>\n",
              "  </thead>\n",
              "  <tbody>\n",
              "    <tr>\n",
              "      <th>0</th>\n",
              "      <td>A small meteorite crashed into a wooded area i...</td>\n",
              "      <td>Soldier shot, Parliament locked down after gun...</td>\n",
              "      <td>unrelated\\n</td>\n",
              "    </tr>\n",
              "    <tr>\n",
              "      <th>1</th>\n",
              "      <td>A small meteorite crashed into a wooded area i...</td>\n",
              "      <td>Tourist dubbed ‘Spider Man’ after spider burro...</td>\n",
              "      <td>unrelated\\n</td>\n",
              "    </tr>\n",
              "    <tr>\n",
              "      <th>2</th>\n",
              "      <td>A small meteorite crashed into a wooded area i...</td>\n",
              "      <td>Luke Somers 'killed in failed rescue attempt i...</td>\n",
              "      <td>unrelated\\n</td>\n",
              "    </tr>\n",
              "    <tr>\n",
              "      <th>3</th>\n",
              "      <td>A small meteorite crashed into a wooded area i...</td>\n",
              "      <td>BREAKING: Soldier shot at War Memorial in Otta...</td>\n",
              "      <td>unrelated\\n</td>\n",
              "    </tr>\n",
              "    <tr>\n",
              "      <th>4</th>\n",
              "      <td>A small meteorite crashed into a wooded area i...</td>\n",
              "      <td>Giant 8ft 9in catfish weighing 19 stone caught...</td>\n",
              "      <td>unrelated\\n</td>\n",
              "    </tr>\n",
              "  </tbody>\n",
              "</table>\n",
              "</div>"
            ],
            "text/plain": [
              "                                                news  ...       labels\n",
              "0  A small meteorite crashed into a wooded area i...  ...  unrelated\\n\n",
              "1  A small meteorite crashed into a wooded area i...  ...  unrelated\\n\n",
              "2  A small meteorite crashed into a wooded area i...  ...  unrelated\\n\n",
              "3  A small meteorite crashed into a wooded area i...  ...  unrelated\\n\n",
              "4  A small meteorite crashed into a wooded area i...  ...  unrelated\\n\n",
              "\n",
              "[5 rows x 3 columns]"
            ]
          },
          "metadata": {
            "tags": []
          },
          "execution_count": 26
        }
      ]
    },
    {
      "cell_type": "code",
      "metadata": {
        "id": "4T3rz7RBeb0R",
        "colab": {
          "base_uri": "https://localhost:8080/"
        },
        "outputId": "7b0865d7-1211-430a-f3a8-f0c8626d6c39"
      },
      "source": [
        "new_df['labels'].value_counts()"
      ],
      "execution_count": 27,
      "outputs": [
        {
          "output_type": "execute_result",
          "data": {
            "text/plain": [
              "unrelated\\n    36545\n",
              "discuss\\n       8909\n",
              "agree\\n         3678\n",
              "disagree\\n       840\n",
              "Name: labels, dtype: int64"
            ]
          },
          "metadata": {
            "tags": []
          },
          "execution_count": 27
        }
      ]
    },
    {
      "cell_type": "code",
      "metadata": {
        "id": "7O4u8n-rebwf",
        "colab": {
          "base_uri": "https://localhost:8080/",
          "height": 201
        },
        "outputId": "a7535bc1-b471-4536-b371-4f3ef27ae530"
      },
      "source": [
        "#removing the trailing new line\n",
        "new_df['labels'] = [new_df['labels'][row].rstrip(\"\\n\") for row in range(len(new_df))]\n",
        "new_df.head()"
      ],
      "execution_count": 28,
      "outputs": [
        {
          "output_type": "execute_result",
          "data": {
            "text/html": [
              "<div>\n",
              "<style scoped>\n",
              "    .dataframe tbody tr th:only-of-type {\n",
              "        vertical-align: middle;\n",
              "    }\n",
              "\n",
              "    .dataframe tbody tr th {\n",
              "        vertical-align: top;\n",
              "    }\n",
              "\n",
              "    .dataframe thead th {\n",
              "        text-align: right;\n",
              "    }\n",
              "</style>\n",
              "<table border=\"1\" class=\"dataframe\">\n",
              "  <thead>\n",
              "    <tr style=\"text-align: right;\">\n",
              "      <th></th>\n",
              "      <th>news</th>\n",
              "      <th>headers</th>\n",
              "      <th>labels</th>\n",
              "    </tr>\n",
              "  </thead>\n",
              "  <tbody>\n",
              "    <tr>\n",
              "      <th>0</th>\n",
              "      <td>A small meteorite crashed into a wooded area i...</td>\n",
              "      <td>Soldier shot, Parliament locked down after gun...</td>\n",
              "      <td>unrelated</td>\n",
              "    </tr>\n",
              "    <tr>\n",
              "      <th>1</th>\n",
              "      <td>A small meteorite crashed into a wooded area i...</td>\n",
              "      <td>Tourist dubbed ‘Spider Man’ after spider burro...</td>\n",
              "      <td>unrelated</td>\n",
              "    </tr>\n",
              "    <tr>\n",
              "      <th>2</th>\n",
              "      <td>A small meteorite crashed into a wooded area i...</td>\n",
              "      <td>Luke Somers 'killed in failed rescue attempt i...</td>\n",
              "      <td>unrelated</td>\n",
              "    </tr>\n",
              "    <tr>\n",
              "      <th>3</th>\n",
              "      <td>A small meteorite crashed into a wooded area i...</td>\n",
              "      <td>BREAKING: Soldier shot at War Memorial in Otta...</td>\n",
              "      <td>unrelated</td>\n",
              "    </tr>\n",
              "    <tr>\n",
              "      <th>4</th>\n",
              "      <td>A small meteorite crashed into a wooded area i...</td>\n",
              "      <td>Giant 8ft 9in catfish weighing 19 stone caught...</td>\n",
              "      <td>unrelated</td>\n",
              "    </tr>\n",
              "  </tbody>\n",
              "</table>\n",
              "</div>"
            ],
            "text/plain": [
              "                                                news  ...     labels\n",
              "0  A small meteorite crashed into a wooded area i...  ...  unrelated\n",
              "1  A small meteorite crashed into a wooded area i...  ...  unrelated\n",
              "2  A small meteorite crashed into a wooded area i...  ...  unrelated\n",
              "3  A small meteorite crashed into a wooded area i...  ...  unrelated\n",
              "4  A small meteorite crashed into a wooded area i...  ...  unrelated\n",
              "\n",
              "[5 rows x 3 columns]"
            ]
          },
          "metadata": {
            "tags": []
          },
          "execution_count": 28
        }
      ]
    },
    {
      "cell_type": "code",
      "metadata": {
        "id": "RSpTaOV-ZnOe"
      },
      "source": [
        "!pip install hydra-core omegaconf"
      ],
      "execution_count": null,
      "outputs": []
    },
    {
      "cell_type": "code",
      "metadata": {
        "id": "fjIs75BISzvV"
      },
      "source": [
        "import torch\n",
        "from torch import cuda\n",
        "# Download RoBERTa already finetuned for MNLI\n",
        "roberta = torch.hub.load('pytorch/fairseq', 'roberta.large.mnli')\n",
        "roberta.eval() "
      ],
      "execution_count": null,
      "outputs": []
    },
    {
      "cell_type": "code",
      "metadata": {
        "id": "n-ES3TFOSzkV"
      },
      "source": [
        "#batched predictions\n",
        "from fairseq.data.data_utils import collate_tokens\n"
      ],
      "execution_count": 17,
      "outputs": []
    },
    {
      "cell_type": "code",
      "metadata": {
        "colab": {
          "base_uri": "https://localhost:8080/"
        },
        "id": "mbQp_Xg0aqpt",
        "outputId": "54dfc0e0-51d1-4a26-9669-4bb5d6a4ae16"
      },
      "source": [
        "#running model in a small batch\n",
        "batch = collate_tokens(\n",
        "    [roberta.encode(row[0], row[1]) for row in new_df], pad_idx=1\n",
        ")\n",
        "\n",
        "logprobs = roberta.predict('mnli', batch)\n",
        "print(logprobs.argmax(dim=1))"
      ],
      "execution_count": 18,
      "outputs": [
        {
          "output_type": "stream",
          "text": [
            "tensor([2, 0, 2])\n"
          ],
          "name": "stdout"
        }
      ]
    },
    {
      "cell_type": "code",
      "metadata": {
        "id": "r63E9NKm9leq"
      },
      "source": [
        "#creating a new copy\n",
        "df_2 = new_df.copy()"
      ],
      "execution_count": 29,
      "outputs": []
    },
    {
      "cell_type": "code",
      "metadata": {
        "colab": {
          "base_uri": "https://localhost:8080/"
        },
        "id": "Egchac8-T5C2",
        "outputId": "3cb739f9-b8c1-4e59-cf34-b45571c96df6"
      },
      "source": [
        "#checking label counts\n",
        "df_2['labels'].value_counts()"
      ],
      "execution_count": 30,
      "outputs": [
        {
          "output_type": "execute_result",
          "data": {
            "text/plain": [
              "unrelated    36545\n",
              "discuss       8909\n",
              "agree         3678\n",
              "disagree       840\n",
              "Name: labels, dtype: int64"
            ]
          },
          "metadata": {
            "tags": []
          },
          "execution_count": 30
        }
      ]
    },
    {
      "cell_type": "code",
      "metadata": {
        "id": "65GxRzQhTxOX"
      },
      "source": [
        "#updating labels for model comparison\n",
        "#lets add disagree and unrelated together\n",
        "df_2['labels_mod'] = ''\n",
        "df_2['labels_int'] = ''\n",
        "\n",
        "for label in range(len(df_2)):\n",
        "  if df_2['labels'][label] == 'unrelated':\n",
        "    df_2['labels_mod'][label] = 'contradiction'\n",
        "    df_2['labels_int'][label] = 0\n",
        "  elif df_2['labels'][label] == 'disagree':\n",
        "    df_2['labels_mod'][label] = 'contradiction'\n",
        "    df_2['labels_int'][label] = 1\n",
        "  elif df_2['labels'][label] == 'discuss':\n",
        "    df_2['labels_mod'][label] = 'neutral'\n",
        "    df_2['labels_int'][label] = 1\n",
        "  else:\n",
        "    df_2['labels_mod'][label] = 'entailment'\n",
        "    df_2['labels_int'][label] = 2\n",
        "\n",
        "\n"
      ],
      "execution_count": 44,
      "outputs": []
    },
    {
      "cell_type": "code",
      "metadata": {
        "colab": {
          "base_uri": "https://localhost:8080/"
        },
        "id": "CDf6HGCqVuks",
        "outputId": "579a4cb4-270d-47b6-d563-4bbfab8371c3"
      },
      "source": [
        "#checking label counts\n",
        "df_2['labels_mod'].value_counts()"
      ],
      "execution_count": 45,
      "outputs": [
        {
          "output_type": "execute_result",
          "data": {
            "text/plain": [
              "contradiction    37385\n",
              "neutral           8909\n",
              "entailment        3678\n",
              "Name: labels_mod, dtype: int64"
            ]
          },
          "metadata": {
            "tags": []
          },
          "execution_count": 45
        }
      ]
    },
    {
      "cell_type": "code",
      "metadata": {
        "colab": {
          "base_uri": "https://localhost:8080/"
        },
        "id": "eiQk_7Y3B0PZ",
        "outputId": "7830f34c-177f-4d9a-804e-cbda3da0ec50"
      },
      "source": [
        "#checking label counts\n",
        "df_2['labels_int'].value_counts()"
      ],
      "execution_count": 46,
      "outputs": [
        {
          "output_type": "execute_result",
          "data": {
            "text/plain": [
              "0    36545\n",
              "1     9749\n",
              "2     3678\n",
              "Name: labels_int, dtype: int64"
            ]
          },
          "metadata": {
            "tags": []
          },
          "execution_count": 46
        }
      ]
    },
    {
      "cell_type": "code",
      "metadata": {
        "colab": {
          "base_uri": "https://localhost:8080/"
        },
        "id": "FalcUVtYJmsx",
        "outputId": "ce4c9e32-698d-4244-9336-610fbe042511"
      },
      "source": [
        "#Evaluating the model\n",
        "%%time\n",
        "label_map = {0: 'contradiction', 1: 'neutral', 2: 'entailment'}\n",
        "ncorrect, nsamples = 0 , 0 \n",
        "#nsamples = len(df_2)\n",
        "roberta.cuda()\n",
        "roberta.eval()\n",
        "\n",
        "for row in range(len(df_2)):\n",
        "  sent1, sent2, target = df_2.iloc[:,0], df_2.iloc[:,1], df_2.iloc[:,3]\n",
        "  tokens = roberta.encode(sent1[row][0:511], sent2[row])\n",
        "  prediction = roberta.predict('mnli', tokens).argmax().item()\n",
        "  prediction_label = label_map[prediction]\n",
        "  if prediction_label == target[row]: ncorrect +=1\n",
        "  nsamples +=1\n",
        "print('| Accuracy: ', float(ncorrect)/float(nsamples))"
      ],
      "execution_count": 84,
      "outputs": [
        {
          "output_type": "stream",
          "text": [
            "| Accuracy:  0.21111822620667575\n",
            "CPU times: user 40min 25s, sys: 5.92 s, total: 40min 31s\n",
            "Wall time: 40min 35s\n"
          ],
          "name": "stdout"
        }
      ]
    }
  ]
}